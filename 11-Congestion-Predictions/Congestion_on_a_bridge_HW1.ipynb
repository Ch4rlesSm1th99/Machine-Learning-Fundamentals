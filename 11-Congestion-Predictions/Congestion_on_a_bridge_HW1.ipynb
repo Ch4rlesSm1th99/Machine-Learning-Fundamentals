{
  "cells": [
    {
      "cell_type": "markdown",
      "metadata": {
        "id": "view-in-github",
        "colab_type": "text"
      },
      "source": [
        "<a href=\"https://colab.research.google.com/github/Ch4rlesSm1th99/Congestion-Predictions/blob/main/Congestion_on_a_bridge_HW1.ipynb\" target=\"_parent\"><img src=\"https://colab.research.google.com/assets/colab-badge.svg\" alt=\"Open In Colab\"/></a>"
      ]
    },
    {
      "cell_type": "markdown",
      "metadata": {
        "id": "2YX_utHD_s3h"
      },
      "source": [
        "Let's take a look at whether we can predict the number of bicycle trips across Seattle's Fremont Bridge based on weather, season, and other factors. We have a dataset with number of bikers that crossed the bridge on a particular day and some accompanying data for that day. We will perform a simple linear regression to relate weather and other information to bicycle counts, in order to estimate how a change in any one of these parameters affects the number of riders on a given day."
      ]
    },
    {
      "cell_type": "markdown",
      "metadata": {
        "id": "bAhCNW61AOWO"
      },
      "source": [
        "Let's download the dataset and have a look at it."
      ]
    },
    {
      "cell_type": "code",
      "execution_count": null,
      "metadata": {
        "colab": {
          "base_uri": "https://localhost:8080/"
        },
        "id": "7frjiXeo8p7M",
        "outputId": "2374f21b-2cc7-4786-8328-4f04c3ab5c7a"
      },
      "outputs": [
        {
          "output_type": "stream",
          "name": "stdout",
          "text": [
            "Downloading...\n",
            "From: https://drive.google.com/uc?id=12OEFoq_65x6Sy4doc24FwHu1ujKpbXSn\n",
            "To: /content/bikers_data.csv\n",
            "\r  0% 0.00/213k [00:00<?, ?B/s]\r100% 213k/213k [00:00<00:00, 3.31MB/s]\n"
          ]
        }
      ],
      "source": [
        "!gdown 12OEFoq_65x6Sy4doc24FwHu1ujKpbXSn"
      ]
    },
    {
      "cell_type": "code",
      "execution_count": null,
      "metadata": {
        "id": "h_zsvUmV-RGu"
      },
      "outputs": [],
      "source": [
        "import pandas as pd\n",
        "import numpy as np\n"
      ]
    },
    {
      "cell_type": "markdown",
      "metadata": {
        "id": "1jH8ceoxAWWN"
      },
      "source": [
        "Examine the columns in the dataset."
      ]
    },
    {
      "cell_type": "code",
      "execution_count": null,
      "metadata": {
        "colab": {
          "base_uri": "https://localhost:8080/",
          "height": 455
        },
        "id": "5xykcINg-Evc",
        "outputId": "8da812a4-535f-4a87-ffa5-652b8c13d8f4"
      },
      "outputs": [
        {
          "output_type": "execute_result",
          "data": {
            "text/plain": [
              "            Number of bikers  Mon  Tue  Wed  Thu  Fri  Sat  Sun  holiday  \\\n",
              "Date                                                                       \n",
              "2012-10-03           14084.0  0.0  0.0  1.0  0.0  0.0  0.0  0.0      0.0   \n",
              "2012-10-04           13900.0  0.0  0.0  0.0  1.0  0.0  0.0  0.0      0.0   \n",
              "2012-10-05           12592.0  0.0  0.0  0.0  0.0  1.0  0.0  0.0      0.0   \n",
              "2012-10-06            8024.0  0.0  0.0  0.0  0.0  0.0  1.0  0.0      0.0   \n",
              "2012-10-07            8568.0  0.0  0.0  0.0  0.0  0.0  0.0  1.0      0.0   \n",
              "...                      ...  ...  ...  ...  ...  ...  ...  ...      ...   \n",
              "2019-12-27            4552.0  0.0  0.0  0.0  0.0  1.0  0.0  0.0      0.0   \n",
              "2019-12-28            3352.0  0.0  0.0  0.0  0.0  0.0  1.0  0.0      0.0   \n",
              "2019-12-29            3692.0  0.0  0.0  0.0  0.0  0.0  0.0  1.0      0.0   \n",
              "2019-12-30            7212.0  1.0  0.0  0.0  0.0  0.0  0.0  0.0      0.0   \n",
              "2019-12-31            4568.0  0.0  1.0  0.0  0.0  0.0  0.0  0.0      0.0   \n",
              "\n",
              "            daylight_hrs  Rainfall (in)  Temp (F)  dry day  \n",
              "Date                                                        \n",
              "2012-10-03     11.277359           0.00      56.0        1  \n",
              "2012-10-04     11.219142           0.00      56.5        1  \n",
              "2012-10-05     11.161038           0.00      59.5        1  \n",
              "2012-10-06     11.103056           0.00      60.5        1  \n",
              "2012-10-07     11.045208           0.00      60.5        1  \n",
              "...                  ...            ...       ...      ...  \n",
              "2019-12-27      8.237706           0.01      41.0        0  \n",
              "2019-12-28      8.245532           0.00      44.0        1  \n",
              "2019-12-29      8.254701           0.01      45.5        0  \n",
              "2019-12-30      8.265207           0.04      45.5        0  \n",
              "2019-12-31      8.277039           0.26      49.5        0  \n",
              "\n",
              "[2646 rows x 13 columns]"
            ],
            "text/html": [
              "\n",
              "\n",
              "  <div id=\"df-d986a514-2224-42d8-a314-2400ad438afe\">\n",
              "    <div class=\"colab-df-container\">\n",
              "      <div>\n",
              "<style scoped>\n",
              "    .dataframe tbody tr th:only-of-type {\n",
              "        vertical-align: middle;\n",
              "    }\n",
              "\n",
              "    .dataframe tbody tr th {\n",
              "        vertical-align: top;\n",
              "    }\n",
              "\n",
              "    .dataframe thead th {\n",
              "        text-align: right;\n",
              "    }\n",
              "</style>\n",
              "<table border=\"1\" class=\"dataframe\">\n",
              "  <thead>\n",
              "    <tr style=\"text-align: right;\">\n",
              "      <th></th>\n",
              "      <th>Number of bikers</th>\n",
              "      <th>Mon</th>\n",
              "      <th>Tue</th>\n",
              "      <th>Wed</th>\n",
              "      <th>Thu</th>\n",
              "      <th>Fri</th>\n",
              "      <th>Sat</th>\n",
              "      <th>Sun</th>\n",
              "      <th>holiday</th>\n",
              "      <th>daylight_hrs</th>\n",
              "      <th>Rainfall (in)</th>\n",
              "      <th>Temp (F)</th>\n",
              "      <th>dry day</th>\n",
              "    </tr>\n",
              "    <tr>\n",
              "      <th>Date</th>\n",
              "      <th></th>\n",
              "      <th></th>\n",
              "      <th></th>\n",
              "      <th></th>\n",
              "      <th></th>\n",
              "      <th></th>\n",
              "      <th></th>\n",
              "      <th></th>\n",
              "      <th></th>\n",
              "      <th></th>\n",
              "      <th></th>\n",
              "      <th></th>\n",
              "      <th></th>\n",
              "    </tr>\n",
              "  </thead>\n",
              "  <tbody>\n",
              "    <tr>\n",
              "      <th>2012-10-03</th>\n",
              "      <td>14084.0</td>\n",
              "      <td>0.0</td>\n",
              "      <td>0.0</td>\n",
              "      <td>1.0</td>\n",
              "      <td>0.0</td>\n",
              "      <td>0.0</td>\n",
              "      <td>0.0</td>\n",
              "      <td>0.0</td>\n",
              "      <td>0.0</td>\n",
              "      <td>11.277359</td>\n",
              "      <td>0.00</td>\n",
              "      <td>56.0</td>\n",
              "      <td>1</td>\n",
              "    </tr>\n",
              "    <tr>\n",
              "      <th>2012-10-04</th>\n",
              "      <td>13900.0</td>\n",
              "      <td>0.0</td>\n",
              "      <td>0.0</td>\n",
              "      <td>0.0</td>\n",
              "      <td>1.0</td>\n",
              "      <td>0.0</td>\n",
              "      <td>0.0</td>\n",
              "      <td>0.0</td>\n",
              "      <td>0.0</td>\n",
              "      <td>11.219142</td>\n",
              "      <td>0.00</td>\n",
              "      <td>56.5</td>\n",
              "      <td>1</td>\n",
              "    </tr>\n",
              "    <tr>\n",
              "      <th>2012-10-05</th>\n",
              "      <td>12592.0</td>\n",
              "      <td>0.0</td>\n",
              "      <td>0.0</td>\n",
              "      <td>0.0</td>\n",
              "      <td>0.0</td>\n",
              "      <td>1.0</td>\n",
              "      <td>0.0</td>\n",
              "      <td>0.0</td>\n",
              "      <td>0.0</td>\n",
              "      <td>11.161038</td>\n",
              "      <td>0.00</td>\n",
              "      <td>59.5</td>\n",
              "      <td>1</td>\n",
              "    </tr>\n",
              "    <tr>\n",
              "      <th>2012-10-06</th>\n",
              "      <td>8024.0</td>\n",
              "      <td>0.0</td>\n",
              "      <td>0.0</td>\n",
              "      <td>0.0</td>\n",
              "      <td>0.0</td>\n",
              "      <td>0.0</td>\n",
              "      <td>1.0</td>\n",
              "      <td>0.0</td>\n",
              "      <td>0.0</td>\n",
              "      <td>11.103056</td>\n",
              "      <td>0.00</td>\n",
              "      <td>60.5</td>\n",
              "      <td>1</td>\n",
              "    </tr>\n",
              "    <tr>\n",
              "      <th>2012-10-07</th>\n",
              "      <td>8568.0</td>\n",
              "      <td>0.0</td>\n",
              "      <td>0.0</td>\n",
              "      <td>0.0</td>\n",
              "      <td>0.0</td>\n",
              "      <td>0.0</td>\n",
              "      <td>0.0</td>\n",
              "      <td>1.0</td>\n",
              "      <td>0.0</td>\n",
              "      <td>11.045208</td>\n",
              "      <td>0.00</td>\n",
              "      <td>60.5</td>\n",
              "      <td>1</td>\n",
              "    </tr>\n",
              "    <tr>\n",
              "      <th>...</th>\n",
              "      <td>...</td>\n",
              "      <td>...</td>\n",
              "      <td>...</td>\n",
              "      <td>...</td>\n",
              "      <td>...</td>\n",
              "      <td>...</td>\n",
              "      <td>...</td>\n",
              "      <td>...</td>\n",
              "      <td>...</td>\n",
              "      <td>...</td>\n",
              "      <td>...</td>\n",
              "      <td>...</td>\n",
              "      <td>...</td>\n",
              "    </tr>\n",
              "    <tr>\n",
              "      <th>2019-12-27</th>\n",
              "      <td>4552.0</td>\n",
              "      <td>0.0</td>\n",
              "      <td>0.0</td>\n",
              "      <td>0.0</td>\n",
              "      <td>0.0</td>\n",
              "      <td>1.0</td>\n",
              "      <td>0.0</td>\n",
              "      <td>0.0</td>\n",
              "      <td>0.0</td>\n",
              "      <td>8.237706</td>\n",
              "      <td>0.01</td>\n",
              "      <td>41.0</td>\n",
              "      <td>0</td>\n",
              "    </tr>\n",
              "    <tr>\n",
              "      <th>2019-12-28</th>\n",
              "      <td>3352.0</td>\n",
              "      <td>0.0</td>\n",
              "      <td>0.0</td>\n",
              "      <td>0.0</td>\n",
              "      <td>0.0</td>\n",
              "      <td>0.0</td>\n",
              "      <td>1.0</td>\n",
              "      <td>0.0</td>\n",
              "      <td>0.0</td>\n",
              "      <td>8.245532</td>\n",
              "      <td>0.00</td>\n",
              "      <td>44.0</td>\n",
              "      <td>1</td>\n",
              "    </tr>\n",
              "    <tr>\n",
              "      <th>2019-12-29</th>\n",
              "      <td>3692.0</td>\n",
              "      <td>0.0</td>\n",
              "      <td>0.0</td>\n",
              "      <td>0.0</td>\n",
              "      <td>0.0</td>\n",
              "      <td>0.0</td>\n",
              "      <td>0.0</td>\n",
              "      <td>1.0</td>\n",
              "      <td>0.0</td>\n",
              "      <td>8.254701</td>\n",
              "      <td>0.01</td>\n",
              "      <td>45.5</td>\n",
              "      <td>0</td>\n",
              "    </tr>\n",
              "    <tr>\n",
              "      <th>2019-12-30</th>\n",
              "      <td>7212.0</td>\n",
              "      <td>1.0</td>\n",
              "      <td>0.0</td>\n",
              "      <td>0.0</td>\n",
              "      <td>0.0</td>\n",
              "      <td>0.0</td>\n",
              "      <td>0.0</td>\n",
              "      <td>0.0</td>\n",
              "      <td>0.0</td>\n",
              "      <td>8.265207</td>\n",
              "      <td>0.04</td>\n",
              "      <td>45.5</td>\n",
              "      <td>0</td>\n",
              "    </tr>\n",
              "    <tr>\n",
              "      <th>2019-12-31</th>\n",
              "      <td>4568.0</td>\n",
              "      <td>0.0</td>\n",
              "      <td>1.0</td>\n",
              "      <td>0.0</td>\n",
              "      <td>0.0</td>\n",
              "      <td>0.0</td>\n",
              "      <td>0.0</td>\n",
              "      <td>0.0</td>\n",
              "      <td>0.0</td>\n",
              "      <td>8.277039</td>\n",
              "      <td>0.26</td>\n",
              "      <td>49.5</td>\n",
              "      <td>0</td>\n",
              "    </tr>\n",
              "  </tbody>\n",
              "</table>\n",
              "<p>2646 rows × 13 columns</p>\n",
              "</div>\n",
              "      <button class=\"colab-df-convert\" onclick=\"convertToInteractive('df-d986a514-2224-42d8-a314-2400ad438afe')\"\n",
              "              title=\"Convert this dataframe to an interactive table.\"\n",
              "              style=\"display:none;\">\n",
              "\n",
              "  <svg xmlns=\"http://www.w3.org/2000/svg\" height=\"24px\"viewBox=\"0 0 24 24\"\n",
              "       width=\"24px\">\n",
              "    <path d=\"M0 0h24v24H0V0z\" fill=\"none\"/>\n",
              "    <path d=\"M18.56 5.44l.94 2.06.94-2.06 2.06-.94-2.06-.94-.94-2.06-.94 2.06-2.06.94zm-11 1L8.5 8.5l.94-2.06 2.06-.94-2.06-.94L8.5 2.5l-.94 2.06-2.06.94zm10 10l.94 2.06.94-2.06 2.06-.94-2.06-.94-.94-2.06-.94 2.06-2.06.94z\"/><path d=\"M17.41 7.96l-1.37-1.37c-.4-.4-.92-.59-1.43-.59-.52 0-1.04.2-1.43.59L10.3 9.45l-7.72 7.72c-.78.78-.78 2.05 0 2.83L4 21.41c.39.39.9.59 1.41.59.51 0 1.02-.2 1.41-.59l7.78-7.78 2.81-2.81c.8-.78.8-2.07 0-2.86zM5.41 20L4 18.59l7.72-7.72 1.47 1.35L5.41 20z\"/>\n",
              "  </svg>\n",
              "      </button>\n",
              "\n",
              "\n",
              "\n",
              "    <div id=\"df-209431ae-750d-4c9c-bc99-471c1cd2167c\">\n",
              "      <button class=\"colab-df-quickchart\" onclick=\"quickchart('df-209431ae-750d-4c9c-bc99-471c1cd2167c')\"\n",
              "              title=\"Suggest charts.\"\n",
              "              style=\"display:none;\">\n",
              "\n",
              "<svg xmlns=\"http://www.w3.org/2000/svg\" height=\"24px\"viewBox=\"0 0 24 24\"\n",
              "     width=\"24px\">\n",
              "    <g>\n",
              "        <path d=\"M19 3H5c-1.1 0-2 .9-2 2v14c0 1.1.9 2 2 2h14c1.1 0 2-.9 2-2V5c0-1.1-.9-2-2-2zM9 17H7v-7h2v7zm4 0h-2V7h2v10zm4 0h-2v-4h2v4z\"/>\n",
              "    </g>\n",
              "</svg>\n",
              "      </button>\n",
              "    </div>\n",
              "\n",
              "<style>\n",
              "  .colab-df-quickchart {\n",
              "    background-color: #E8F0FE;\n",
              "    border: none;\n",
              "    border-radius: 50%;\n",
              "    cursor: pointer;\n",
              "    display: none;\n",
              "    fill: #1967D2;\n",
              "    height: 32px;\n",
              "    padding: 0 0 0 0;\n",
              "    width: 32px;\n",
              "  }\n",
              "\n",
              "  .colab-df-quickchart:hover {\n",
              "    background-color: #E2EBFA;\n",
              "    box-shadow: 0px 1px 2px rgba(60, 64, 67, 0.3), 0px 1px 3px 1px rgba(60, 64, 67, 0.15);\n",
              "    fill: #174EA6;\n",
              "  }\n",
              "\n",
              "  [theme=dark] .colab-df-quickchart {\n",
              "    background-color: #3B4455;\n",
              "    fill: #D2E3FC;\n",
              "  }\n",
              "\n",
              "  [theme=dark] .colab-df-quickchart:hover {\n",
              "    background-color: #434B5C;\n",
              "    box-shadow: 0px 1px 3px 1px rgba(0, 0, 0, 0.15);\n",
              "    filter: drop-shadow(0px 1px 2px rgba(0, 0, 0, 0.3));\n",
              "    fill: #FFFFFF;\n",
              "  }\n",
              "</style>\n",
              "\n",
              "    <script>\n",
              "      async function quickchart(key) {\n",
              "        const containerElement = document.querySelector('#' + key);\n",
              "        const charts = await google.colab.kernel.invokeFunction(\n",
              "            'suggestCharts', [key], {});\n",
              "      }\n",
              "    </script>\n",
              "\n",
              "      <script>\n",
              "\n",
              "function displayQuickchartButton(domScope) {\n",
              "  let quickchartButtonEl =\n",
              "    domScope.querySelector('#df-209431ae-750d-4c9c-bc99-471c1cd2167c button.colab-df-quickchart');\n",
              "  quickchartButtonEl.style.display =\n",
              "    google.colab.kernel.accessAllowed ? 'block' : 'none';\n",
              "}\n",
              "\n",
              "        displayQuickchartButton(document);\n",
              "      </script>\n",
              "      <style>\n",
              "    .colab-df-container {\n",
              "      display:flex;\n",
              "      flex-wrap:wrap;\n",
              "      gap: 12px;\n",
              "    }\n",
              "\n",
              "    .colab-df-convert {\n",
              "      background-color: #E8F0FE;\n",
              "      border: none;\n",
              "      border-radius: 50%;\n",
              "      cursor: pointer;\n",
              "      display: none;\n",
              "      fill: #1967D2;\n",
              "      height: 32px;\n",
              "      padding: 0 0 0 0;\n",
              "      width: 32px;\n",
              "    }\n",
              "\n",
              "    .colab-df-convert:hover {\n",
              "      background-color: #E2EBFA;\n",
              "      box-shadow: 0px 1px 2px rgba(60, 64, 67, 0.3), 0px 1px 3px 1px rgba(60, 64, 67, 0.15);\n",
              "      fill: #174EA6;\n",
              "    }\n",
              "\n",
              "    [theme=dark] .colab-df-convert {\n",
              "      background-color: #3B4455;\n",
              "      fill: #D2E3FC;\n",
              "    }\n",
              "\n",
              "    [theme=dark] .colab-df-convert:hover {\n",
              "      background-color: #434B5C;\n",
              "      box-shadow: 0px 1px 3px 1px rgba(0, 0, 0, 0.15);\n",
              "      filter: drop-shadow(0px 1px 2px rgba(0, 0, 0, 0.3));\n",
              "      fill: #FFFFFF;\n",
              "    }\n",
              "  </style>\n",
              "\n",
              "      <script>\n",
              "        const buttonEl =\n",
              "          document.querySelector('#df-d986a514-2224-42d8-a314-2400ad438afe button.colab-df-convert');\n",
              "        buttonEl.style.display =\n",
              "          google.colab.kernel.accessAllowed ? 'block' : 'none';\n",
              "\n",
              "        async function convertToInteractive(key) {\n",
              "          const element = document.querySelector('#df-d986a514-2224-42d8-a314-2400ad438afe');\n",
              "          const dataTable =\n",
              "            await google.colab.kernel.invokeFunction('convertToInteractive',\n",
              "                                                     [key], {});\n",
              "          if (!dataTable) return;\n",
              "\n",
              "          const docLinkHtml = 'Like what you see? Visit the ' +\n",
              "            '<a target=\"_blank\" href=https://colab.research.google.com/notebooks/data_table.ipynb>data table notebook</a>'\n",
              "            + ' to learn more about interactive tables.';\n",
              "          element.innerHTML = '';\n",
              "          dataTable['output_type'] = 'display_data';\n",
              "          await google.colab.output.renderOutput(dataTable, element);\n",
              "          const docLink = document.createElement('div');\n",
              "          docLink.innerHTML = docLinkHtml;\n",
              "          element.appendChild(docLink);\n",
              "        }\n",
              "      </script>\n",
              "    </div>\n",
              "  </div>\n"
            ]
          },
          "metadata": {},
          "execution_count": 3
        }
      ],
      "source": [
        "# Load Data\n",
        "data = pd.read_csv(\"bikers_data.csv\", index_col=\"Date\")\n",
        "data"
      ]
    },
    {
      "cell_type": "code",
      "execution_count": null,
      "metadata": {
        "colab": {
          "base_uri": "https://localhost:8080/"
        },
        "id": "AqBaPVax6c90",
        "outputId": "23fb89cd-b923-499e-8f50-6c095ccec35d"
      },
      "outputs": [
        {
          "output_type": "execute_result",
          "data": {
            "text/plain": [
              "((2646, 11), (2646, 1))"
            ]
          },
          "metadata": {},
          "execution_count": 4
        }
      ],
      "source": [
        "# We use the following columns for our training.\n",
        "data_x = data[['Mon', 'Tue', 'Wed', 'Thu', 'Fri', 'Sat', 'Sun',\n",
        "                'holiday', 'daylight_hrs', 'Rainfall (in)',\n",
        "                'dry day']].to_numpy()\n",
        "\n",
        "# Separating out the target values.\n",
        "data_y = data[[\"Number of bikers\"]].to_numpy()\n",
        "\n",
        "data_x.shape, data_y.shape\n"
      ]
    },
    {
      "cell_type": "markdown",
      "metadata": {
        "id": "OZ6wbmQXAhzR"
      },
      "source": [
        "## a) Split the dataset into training and testing sets\n",
        "\n",
        "Split the dataset into training and testing sets. Keep 80% of the data for training and 20% of the data for testing."
      ]
    },
    {
      "cell_type": "markdown",
      "source": [
        "## Functions\n"
      ],
      "metadata": {
        "id": "EXqvkNHfU1Mx"
      }
    },
    {
      "cell_type": "code",
      "source": [
        "#splits data 80:20 train:test sets\n",
        "def split_data(data_x ,data_y):\n",
        "  #randomise indexes\n",
        "  ind = np.arange(data_x.shape[0])\n",
        "  np.random.shuffle(ind)\n",
        "\n",
        "  #split the indexes\n",
        "  train_ind = ind[:int(np.floor(0.8*data_x.shape[0]))]\n",
        "  test_ind = ind[int(np.floor(0.8*data_x.shape[0])):]\n",
        "\n",
        "  #sample those indexes from each set of data\n",
        "  x_train = data_x[train_ind]\n",
        "  y_train = data_y[train_ind]\n",
        "\n",
        "  x_test = data_x[test_ind]\n",
        "  y_test = data_y[test_ind]\n",
        "\n",
        "  return x_train, y_train, x_test, y_test\n",
        "\n",
        "#computes x matrix (in the normal equation) by adding column of ones onto array of original x data\n",
        "def x_matrix(data):\n",
        "  x_matrix = np.concatenate((np.ones((data.shape[0], 1)), data), axis = 1)\n",
        "  return x_matrix\n",
        "\n",
        "#solve normal eq generally\n",
        "def find_theta(x_matrix,y_data):\n",
        "  theta = np.linalg.solve(x_matrix.T @ x_matrix , x_matrix.T @ y_data)\n",
        "  return theta\n",
        "\n",
        "#makes predictions of y\n",
        "def predict_y(x_matrix, theta):\n",
        "  y_pred = x_matrix @ theta\n",
        "  return y_pred\n",
        "\n",
        "#find absolute average error\n",
        "def abs_error(y_test, y_pred):\n",
        "  mean_squared_err = ((y_pred - y_test)**2).mean()\n",
        "  av_error = mean_squared_err**0.5\n",
        "  return av_error\n"
      ],
      "metadata": {
        "id": "yDK22IevU0AJ"
      },
      "execution_count": null,
      "outputs": []
    },
    {
      "cell_type": "code",
      "execution_count": null,
      "metadata": {
        "id": "vGZYGD1Wpwxz"
      },
      "outputs": [],
      "source": [
        "#split data 80:20 and assign variables to each piece of data\n",
        "x_train1, y_train1, x_test1, y_test1 = split_data(data_x , data_y)\n"
      ]
    },
    {
      "cell_type": "markdown",
      "metadata": {
        "id": "iqVMAnc1AnjE"
      },
      "source": [
        "## b) Train a linear regression model\n",
        "\n",
        "Build a linear regression model for predicting the numner of bikers using the mean squared error loss function."
      ]
    },
    {
      "cell_type": "code",
      "source": [
        "#compute x matrix for the training data for normal eq\n",
        "x_train1_m = x_matrix(x_train1)\n",
        "\n",
        "#solve specifically for training data\n",
        "theta1 = find_theta(x_train1_m, y_train1)"
      ],
      "metadata": {
        "id": "IecLYKbr6z9V"
      },
      "execution_count": null,
      "outputs": []
    },
    {
      "cell_type": "markdown",
      "metadata": {
        "id": "uiMkCZAnAy-Y"
      },
      "source": [
        "## c) Predict and Evaluate\n",
        "\n",
        "Predict on the test set and calculate the average absolute error between predictions and true value.\n",
        "\n",
        "Comment on the results."
      ]
    },
    {
      "cell_type": "code",
      "source": [
        "#compute x matrix for test data in order to make y predictions\n",
        "x_test1_m = x_matrix(x_test1)\n",
        "\n",
        "#make predictions of y from test data\n",
        "y_pred1 = predict_y(x_test1_m, theta1)\n",
        "\n",
        "#computes average absolute error\n",
        "print(f\"on average our model deviates by an absolute error of {int(abs_error(y_test1 , y_pred1))} from the true data\")"
      ],
      "metadata": {
        "colab": {
          "base_uri": "https://localhost:8080/"
        },
        "id": "bRxE5hn_t2qA",
        "outputId": "20f015d7-7dfe-419d-d516-c98eff8aec7c"
      },
      "execution_count": null,
      "outputs": [
        {
          "output_type": "stream",
          "name": "stdout",
          "text": [
            "on average our model deviates by an absolute error of 2577 from the true data\n"
          ]
        }
      ]
    },
    {
      "cell_type": "markdown",
      "source": [
        "# Comments on model\n",
        "The absolute average error is scaled to the data and the predicted data roughly matches the same range of the true data. However even for the largest data point in terms of numbers of bikers there is still on average 20-15% of the max value deviation from the true data which is not necessarily very good and so the model can't accrately predict the number of bikers on a specific day. Another point to mention is that when the model made predictions it soemtimes predicted negative numbers of bikers on some days.  \n",
        "\n",
        "\n",
        "\n",
        "\n",
        "\n"
      ],
      "metadata": {
        "id": "9jCj_0U23Tlp"
      }
    },
    {
      "cell_type": "markdown",
      "metadata": {
        "id": "Gqu61LeEBKMO"
      },
      "source": [
        "## d) What is the expected number of bikers on a dry non-holiday Monday with 0 inches of rain and 10.5 hours of daylight?"
      ]
    },
    {
      "cell_type": "code",
      "source": [
        "#inputting data as an array\n",
        "x_sample_data = np.array([ 1, 1, 0, 0, 0, 0, 0, 0, 0, 10.5, 0, 1])\n",
        "\n",
        "#transpose and multiply to make predictions\n",
        "y_sample_prediction = x_sample_data.T @ theta1\n",
        "\n",
        "print(f\"model predicts that there will be {int(y_sample_prediction[0])} bikers on this day\")"
      ],
      "metadata": {
        "colab": {
          "base_uri": "https://localhost:8080/"
        },
        "id": "j66-gw1l4jnQ",
        "outputId": "cc3a3d5a-ab53-4a61-d32b-e28da5e27ad0"
      },
      "execution_count": null,
      "outputs": [
        {
          "output_type": "stream",
          "name": "stdout",
          "text": [
            "model predicts that there will be 13342 bikers on this day\n"
          ]
        }
      ]
    },
    {
      "cell_type": "markdown",
      "metadata": {
        "id": "cUYLZMSRC9B7"
      },
      "source": [
        "## e) Notice that the dataset had an another column 'Temp (F)' but we aren't using it. Let's use that too and do this again.\n",
        "\n",
        "Add the 'Temp (F)' column to our X data."
      ]
    },
    {
      "cell_type": "code",
      "execution_count": null,
      "metadata": {
        "colab": {
          "base_uri": "https://localhost:8080/"
        },
        "id": "3v9F2IGA-9Ho",
        "outputId": "fc73b99d-d446-4587-845c-faca4ef4a5b4"
      },
      "outputs": [
        {
          "output_type": "execute_result",
          "data": {
            "text/plain": [
              "((2646, 12), (2646, 1))"
            ]
          },
          "metadata": {},
          "execution_count": 10
        }
      ],
      "source": [
        "# We use the following columns for our training.\n",
        "data_x = data[['Mon', 'Tue', 'Wed', 'Thu', 'Fri', 'Sat', 'Sun',\n",
        "                'holiday', 'daylight_hrs', 'Rainfall (in)',\n",
        "                'dry day', 'Temp (F)']].to_numpy()\n",
        "\n",
        "# Separating out the target values.\n",
        "data_y = data[[\"Number of bikers\"]].to_numpy()\n",
        "\n",
        "data_x.shape, data_y.shape"
      ]
    },
    {
      "cell_type": "markdown",
      "metadata": {
        "id": "OUGW1UulDVfI"
      },
      "source": [
        "## f) Split the dataset into training and testing sets again\n"
      ]
    },
    {
      "cell_type": "code",
      "source": [
        "#split data 80:20 and assign variables to each piece of data\n",
        "x_train2, y_train2, x_test2, y_test2 = split_data(data_x , data_y)"
      ],
      "metadata": {
        "id": "ZnLF0_Ga0yGZ"
      },
      "execution_count": null,
      "outputs": []
    },
    {
      "cell_type": "markdown",
      "metadata": {
        "id": "cQEouVbUDbea"
      },
      "source": [
        "## g) Train a linear regression model again\n",
        "\n",
        "Build a linear regression model for predicting the numner of bikers using the mean squared error loss function."
      ]
    },
    {
      "cell_type": "code",
      "source": [
        "#compute x matrix for the training data for normal eq\n",
        "x_train2_m = x_matrix(x_train2)\n",
        "\n",
        "#solve normal equation specifically for second set of training data\n",
        "theta2 = find_theta(x_train2_m, y_train2)\n"
      ],
      "metadata": {
        "id": "-E8HflVk0yrK"
      },
      "execution_count": null,
      "outputs": []
    },
    {
      "cell_type": "markdown",
      "metadata": {
        "id": "FqIsCLNcDhwv"
      },
      "source": [
        "## h) Predict and Evaluate Again!\n",
        "\n",
        "Predict on the test set and calculate the average absolute error between predictions and true value.\n",
        "\n",
        "Comment on the results. Did it change? Can you think of any information we can use to make a better(more informed) model?"
      ]
    },
    {
      "cell_type": "code",
      "source": [
        "#compute x matrix for test data to make y pred\n",
        "x_test2_m = x_matrix(x_test2)\n",
        "\n",
        "#make predictions from test data\n",
        "y_pred2 = predict_y(x_test2_m, theta2)\n",
        "\n",
        "#calculating average absolute error\n",
        "print(f\"on average our model deviates by an absolute error of {int(abs_error(y_test2 , y_pred2))} from the true data\")"
      ],
      "metadata": {
        "id": "NeoxXCiY0zXR",
        "colab": {
          "base_uri": "https://localhost:8080/"
        },
        "outputId": "a53db931-ff34-45f9-d5a7-23da2a4173df"
      },
      "execution_count": null,
      "outputs": [
        {
          "output_type": "stream",
          "name": "stdout",
          "text": [
            "on average our model deviates by an absolute error of 2278 from the true data\n"
          ]
        }
      ]
    },
    {
      "cell_type": "markdown",
      "source": [
        "# Comments on new model\n",
        "New model predicts a lower absolute average arror than the previous model (15%-10% of max value now)however the error is still not necessarily acceptable to be able to accurately predict the number of bikers on a given day although it has improved upon the previous model and can still provide an indication of the number of bikers on a day. The model still predicts on certain days there will be a negative number of bikers on the bridge. Some other information that might be useful for improving this model is the traffic congestion ie number of vehicles on the brdge on a given day."
      ],
      "metadata": {
        "id": "w_TU-_C3C73W"
      }
    }
  ],
  "metadata": {
    "colab": {
      "provenance": [],
      "include_colab_link": true
    },
    "kernelspec": {
      "display_name": "Python 3",
      "name": "python3"
    },
    "language_info": {
      "name": "python"
    }
  },
  "nbformat": 4,
  "nbformat_minor": 0
}